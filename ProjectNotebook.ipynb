{
 "cells": [
  {
   "cell_type": "markdown",
   "metadata": {},
   "source": [
    "# Project Description"
   ]
  },
  {
   "cell_type": "markdown",
   "metadata": {},
   "source": [
    "My project creates an online version of the card game, \"War.\" It asks for your name and prefered difficulty(General/difficult or Cadet/easy). It then asks if you need a rulebook and provides one if needed. Then, you receive your \"army\" of cards, and begin comparing random cards from your hand with random cards from the computer's hand. If your card has a higher value than the computer's, you receive a flag point. Otherwise, the computer receives a flag point. Depending on the difficulty level, a different number of flags corresponds to a win. Have fun!"
   ]
  },
  {
   "cell_type": "markdown",
   "metadata": {},
   "source": [
    "## Project Code\n",
    "\n",
    "If it makes sense for your project, you can have code and outputs here in the notebook as well."
   ]
  },
  {
   "cell_type": "code",
   "execution_count": 1,
   "metadata": {},
   "outputs": [],
   "source": [
    "from my_module.functions import play_game, get_player, introduce, player_flag_points, computer_flag_points, cadet, general"
   ]
  },
  {
   "cell_type": "code",
   "execution_count": 2,
   "metadata": {},
   "outputs": [
    {
     "name": "stdout",
     "output_type": "stream",
     "text": [
      "Welcome to the squad! What's your name?Shelby\n",
      "How much training do you have(General or Cadet)?General\n",
      "Okay, General Shelby, even experienced leaders sometimes need a run-down of the rules. Do you need to review the rulebook(Yes or No)?Yes\n",
      "Play a soldier from your hand. If your soldier's value is greater than your opponent's soldier's, you receive a flag point. If you capture six flag points before the computer captures four flag points, you win!\n",
      "Let's begin!\n",
      "Your army:[{3: ['black', 'spades']}, {9: ['red', 'hearts']}, {6: ['red', 'diamonds']}, {5: ['black', 'clubs']}, {4: ['red', 'hearts']}, {3: ['red', 'diamonds']}, {3: ['red', 'hearts']}, {7: ['red', 'hearts']}, {9: ['black', 'spades']}, {6: ['black', 'spades']}, {12: ['red', 'hearts']}, {13: ['black', 'spades']}, {11: ['black', 'clubs']}, {2: ['black', 'clubs']}, {4: ['red', 'diamonds']}, {13: ['red', 'hearts']}, {5: ['black', 'spades']}, {8: ['black', 'clubs']}, {7: ['black', 'spades']}, {10: ['red', 'hearts']}, {3: ['black', 'clubs']}, {11: ['red', 'diamonds']}, {13: ['black', 'clubs']}, {8: ['black', 'spades']}, {4: ['black', 'clubs']}, {9: ['red', 'diamonds']}]\n",
      "Are you ready to march to battle (Yes or No)?No\n",
      "Well, it looks like your opponent's ready. Better get ready fast. Time to start!\n",
      "Your soldier has value 3, and the opponent's soldier has value 9.\n",
      "\n",
      "🏴‍☠️\n",
      "Your soldier has value 9, and the opponent's soldier has value 8.\n",
      "🏳️\n",
      "🏴‍☠️\n",
      "Your soldier has value 6, and the opponent's soldier has value 2.\n",
      "🏳️🏳️\n",
      "🏴‍☠️\n",
      "Your soldier has value 5, and the opponent's soldier has value 3.\n",
      "🏳️🏳️🏳️\n",
      "🏴‍☠️\n",
      "Your soldier has value 4, and the opponent's soldier has value 7.\n",
      "🏳️🏳️🏳️\n",
      "🏴‍☠️🏴‍☠️\n",
      "Your soldier has value 3, and the opponent's soldier has value 3.\n",
      "🏳️🏳️🏳️\n",
      "🏴‍☠️🏴‍☠️\n",
      "Your soldier has value 3, and the opponent's soldier has value 5.\n",
      "🏳️🏳️🏳️\n",
      "🏴‍☠️🏴‍☠️🏴‍☠️\n",
      "Your soldier has value 7, and the opponent's soldier has value 12.\n",
      "🏳️🏳️🏳️\n",
      "🏴‍☠️🏴‍☠️🏴‍☠️🏴‍☠️\n",
      "Tough luck, General Shelby, you've lost the war.\n"
     ]
    }
   ],
   "source": [
    "# Do a bunch of things.\n",
    "play_game()"
   ]
  },
  {
   "cell_type": "code",
   "execution_count": 4,
   "metadata": {},
   "outputs": [
    {
     "name": "stdout",
     "output_type": "stream",
     "text": [
      "\u001b[1m============================= test session starts ==============================\u001b[0m\n",
      "platform linux -- Python 3.9.5, pytest-6.2.5, py-1.10.0, pluggy-1.0.0\n",
      "rootdir: /home/snthomas/FinalProject_COGS18_WI22\n",
      "plugins: anyio-3.2.1\n",
      "collected 4 items                                                              \u001b[0m\n",
      "\n",
      "my_module/test_functions.py \u001b[32m.\u001b[0m\u001b[32m.\u001b[0m\u001b[32m.\u001b[0m\u001b[32m.\u001b[0m\u001b[32m                                         [100%]\u001b[0m\n",
      "\n",
      "\u001b[32m============================== \u001b[32m\u001b[1m4 passed\u001b[0m\u001b[32m in 0.03s\u001b[0m\u001b[32m ===============================\u001b[0m\n"
     ]
    }
   ],
   "source": [
    "# test it out\n",
    "!pytest my_module/test_functions.py"
   ]
  },
  {
   "cell_type": "markdown",
   "metadata": {},
   "source": [
    "#### Extra Credit (*optional*)\n",
    "\n",
    "Replace all of this text with a brief explanation (~3 sentences) of: \n",
    "1. I have never coded before and, prior to taking this class, I've never heard of python. Coding wasn't offered at my high school, so I had no exposure to it. \n",
    "2. I went above and beyond by writing seven functions, four functions over the requirement. I also learned how to extract keys from a list of dictionaries and append the keys into a list, use emojis within strings, create a test for a function with an inputted value, and use newer topics such as zip(), random, and indexing collections within collections. Lastly, I wrote docstrings for all seven of my functions and wrote tests for four functions (one over the requirement). "
   ]
  }
 ],
 "metadata": {
  "kernelspec": {
   "display_name": "Python 3 (ipykernel)",
   "language": "python",
   "name": "python3"
  },
  "language_info": {
   "codemirror_mode": {
    "name": "ipython",
    "version": 3
   },
   "file_extension": ".py",
   "mimetype": "text/x-python",
   "name": "python",
   "nbconvert_exporter": "python",
   "pygments_lexer": "ipython3",
   "version": "3.9.5"
  }
 },
 "nbformat": 4,
 "nbformat_minor": 2
}
